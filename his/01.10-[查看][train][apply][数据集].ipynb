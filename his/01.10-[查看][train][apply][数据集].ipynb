{
 "cells": [
  {
   "cell_type": "code",
   "execution_count": 2,
   "metadata": {
    "collapsed": true
   },
   "outputs": [],
   "source": [
    "import pandas as pd"
   ]
  },
  {
   "cell_type": "code",
   "execution_count": 3,
   "metadata": {
    "collapsed": true
   },
   "outputs": [],
   "source": [
    "dbName = 'db.h5'"
   ]
  },
  {
   "cell_type": "code",
   "execution_count": 4,
   "metadata": {
    "collapsed": false
   },
   "outputs": [],
   "source": [
    "train = pd.read_hdf(dbName, 'train')"
   ]
  },
  {
   "cell_type": "code",
   "execution_count": 5,
   "metadata": {
    "collapsed": false
   },
   "outputs": [
    {
     "data": {
      "text/html": [
       "<div>\n",
       "<table border=\"1\" class=\"dataframe\">\n",
       "  <thead>\n",
       "    <tr style=\"text-align: right;\">\n",
       "      <th></th>\n",
       "      <th>dev_id</th>\n",
       "      <th>post_id</th>\n",
       "      <th>praise</th>\n",
       "      <th>stat_view</th>\n",
       "      <th>stat_click</th>\n",
       "      <th>days</th>\n",
       "      <th>stat_view_1</th>\n",
       "      <th>stat_click_1</th>\n",
       "      <th>days_1</th>\n",
       "      <th>stat_view_2</th>\n",
       "      <th>stat_click_2</th>\n",
       "      <th>days_2</th>\n",
       "    </tr>\n",
       "  </thead>\n",
       "  <tbody>\n",
       "    <tr>\n",
       "      <th>0</th>\n",
       "      <td>00005abc7fe73b34079315b44c0b82c8</td>\n",
       "      <td>512549</td>\n",
       "      <td>1</td>\n",
       "      <td>1</td>\n",
       "      <td>1</td>\n",
       "      <td>1</td>\n",
       "      <td>1</td>\n",
       "      <td>1</td>\n",
       "      <td>1</td>\n",
       "      <td>0</td>\n",
       "      <td>0</td>\n",
       "      <td>0</td>\n",
       "    </tr>\n",
       "    <tr>\n",
       "      <th>1</th>\n",
       "      <td>0000e755c4634a752c6925c354b9aeda</td>\n",
       "      <td>505476</td>\n",
       "      <td>1</td>\n",
       "      <td>1</td>\n",
       "      <td>0</td>\n",
       "      <td>1</td>\n",
       "      <td>0</td>\n",
       "      <td>0</td>\n",
       "      <td>0</td>\n",
       "      <td>1</td>\n",
       "      <td>0</td>\n",
       "      <td>1</td>\n",
       "    </tr>\n",
       "    <tr>\n",
       "      <th>2</th>\n",
       "      <td>00014025f3de46f1e8877d0473b99cf9</td>\n",
       "      <td>507488</td>\n",
       "      <td>2</td>\n",
       "      <td>1</td>\n",
       "      <td>0</td>\n",
       "      <td>1</td>\n",
       "      <td>0</td>\n",
       "      <td>0</td>\n",
       "      <td>0</td>\n",
       "      <td>1</td>\n",
       "      <td>0</td>\n",
       "      <td>1</td>\n",
       "    </tr>\n",
       "    <tr>\n",
       "      <th>3</th>\n",
       "      <td>00014025f3de46f1e8877d0473b99cf9</td>\n",
       "      <td>525003</td>\n",
       "      <td>2</td>\n",
       "      <td>2</td>\n",
       "      <td>0</td>\n",
       "      <td>2</td>\n",
       "      <td>0</td>\n",
       "      <td>0</td>\n",
       "      <td>0</td>\n",
       "      <td>2</td>\n",
       "      <td>0</td>\n",
       "      <td>2</td>\n",
       "    </tr>\n",
       "    <tr>\n",
       "      <th>4</th>\n",
       "      <td>00014025f3de46f1e8877d0473b99cf9</td>\n",
       "      <td>540773</td>\n",
       "      <td>1</td>\n",
       "      <td>3</td>\n",
       "      <td>0</td>\n",
       "      <td>2</td>\n",
       "      <td>0</td>\n",
       "      <td>0</td>\n",
       "      <td>0</td>\n",
       "      <td>3</td>\n",
       "      <td>0</td>\n",
       "      <td>2</td>\n",
       "    </tr>\n",
       "  </tbody>\n",
       "</table>\n",
       "</div>"
      ],
      "text/plain": [
       "                             dev_id  post_id  praise  stat_view  stat_click  \\\n",
       "0  00005abc7fe73b34079315b44c0b82c8   512549       1          1           1   \n",
       "1  0000e755c4634a752c6925c354b9aeda   505476       1          1           0   \n",
       "2  00014025f3de46f1e8877d0473b99cf9   507488       2          1           0   \n",
       "3  00014025f3de46f1e8877d0473b99cf9   525003       2          2           0   \n",
       "4  00014025f3de46f1e8877d0473b99cf9   540773       1          3           0   \n",
       "\n",
       "   days  stat_view_1  stat_click_1  days_1  stat_view_2  stat_click_2  days_2  \n",
       "0     1            1             1       1            0             0       0  \n",
       "1     1            0             0       0            1             0       1  \n",
       "2     1            0             0       0            1             0       1  \n",
       "3     2            0             0       0            2             0       2  \n",
       "4     2            0             0       0            3             0       2  "
      ]
     },
     "execution_count": 5,
     "metadata": {},
     "output_type": "execute_result"
    }
   ],
   "source": [
    "train.head()"
   ]
  },
  {
   "cell_type": "code",
   "execution_count": 6,
   "metadata": {
    "collapsed": true
   },
   "outputs": [],
   "source": [
    "apply = pd.read_hdf(dbName, 'apply')"
   ]
  },
  {
   "cell_type": "code",
   "execution_count": 7,
   "metadata": {
    "collapsed": false
   },
   "outputs": [
    {
     "data": {
      "text/html": [
       "<div>\n",
       "<table border=\"1\" class=\"dataframe\">\n",
       "  <thead>\n",
       "    <tr style=\"text-align: right;\">\n",
       "      <th></th>\n",
       "      <th>dev_id</th>\n",
       "      <th>post_id</th>\n",
       "      <th>stat_view</th>\n",
       "      <th>stat_click</th>\n",
       "      <th>days</th>\n",
       "      <th>stat_view_1</th>\n",
       "      <th>stat_click_1</th>\n",
       "      <th>days_1</th>\n",
       "      <th>stat_view_2</th>\n",
       "      <th>stat_click_2</th>\n",
       "      <th>days_2</th>\n",
       "    </tr>\n",
       "  </thead>\n",
       "  <tbody>\n",
       "    <tr>\n",
       "      <th>0</th>\n",
       "      <td>00005e1b188c082b6e629ae3dab445bd</td>\n",
       "      <td>442520</td>\n",
       "      <td>2</td>\n",
       "      <td>0</td>\n",
       "      <td>1</td>\n",
       "      <td>2</td>\n",
       "      <td>0</td>\n",
       "      <td>1</td>\n",
       "      <td>0</td>\n",
       "      <td>0</td>\n",
       "      <td>0</td>\n",
       "    </tr>\n",
       "    <tr>\n",
       "      <th>1</th>\n",
       "      <td>00005e1b188c082b6e629ae3dab445bd</td>\n",
       "      <td>555697</td>\n",
       "      <td>1</td>\n",
       "      <td>0</td>\n",
       "      <td>1</td>\n",
       "      <td>1</td>\n",
       "      <td>0</td>\n",
       "      <td>1</td>\n",
       "      <td>0</td>\n",
       "      <td>0</td>\n",
       "      <td>0</td>\n",
       "    </tr>\n",
       "    <tr>\n",
       "      <th>2</th>\n",
       "      <td>00005e1b188c082b6e629ae3dab445bd</td>\n",
       "      <td>555712</td>\n",
       "      <td>1</td>\n",
       "      <td>0</td>\n",
       "      <td>1</td>\n",
       "      <td>1</td>\n",
       "      <td>0</td>\n",
       "      <td>1</td>\n",
       "      <td>0</td>\n",
       "      <td>0</td>\n",
       "      <td>0</td>\n",
       "    </tr>\n",
       "    <tr>\n",
       "      <th>3</th>\n",
       "      <td>00005e1b188c082b6e629ae3dab445bd</td>\n",
       "      <td>555745</td>\n",
       "      <td>1</td>\n",
       "      <td>0</td>\n",
       "      <td>1</td>\n",
       "      <td>1</td>\n",
       "      <td>0</td>\n",
       "      <td>1</td>\n",
       "      <td>0</td>\n",
       "      <td>0</td>\n",
       "      <td>0</td>\n",
       "    </tr>\n",
       "    <tr>\n",
       "      <th>4</th>\n",
       "      <td>00005e1b188c082b6e629ae3dab445bd</td>\n",
       "      <td>555779</td>\n",
       "      <td>1</td>\n",
       "      <td>0</td>\n",
       "      <td>1</td>\n",
       "      <td>1</td>\n",
       "      <td>0</td>\n",
       "      <td>1</td>\n",
       "      <td>0</td>\n",
       "      <td>0</td>\n",
       "      <td>0</td>\n",
       "    </tr>\n",
       "  </tbody>\n",
       "</table>\n",
       "</div>"
      ],
      "text/plain": [
       "                             dev_id  post_id  stat_view  stat_click  days  \\\n",
       "0  00005e1b188c082b6e629ae3dab445bd   442520          2           0     1   \n",
       "1  00005e1b188c082b6e629ae3dab445bd   555697          1           0     1   \n",
       "2  00005e1b188c082b6e629ae3dab445bd   555712          1           0     1   \n",
       "3  00005e1b188c082b6e629ae3dab445bd   555745          1           0     1   \n",
       "4  00005e1b188c082b6e629ae3dab445bd   555779          1           0     1   \n",
       "\n",
       "   stat_view_1  stat_click_1  days_1  stat_view_2  stat_click_2  days_2  \n",
       "0            2             0       1            0             0       0  \n",
       "1            1             0       1            0             0       0  \n",
       "2            1             0       1            0             0       0  \n",
       "3            1             0       1            0             0       0  \n",
       "4            1             0       1            0             0       0  "
      ]
     },
     "execution_count": 7,
     "metadata": {},
     "output_type": "execute_result"
    }
   ],
   "source": [
    "apply.head()"
   ]
  },
  {
   "cell_type": "code",
   "execution_count": 8,
   "metadata": {
    "collapsed": false
   },
   "outputs": [
    {
     "data": {
      "text/plain": [
       "4559401"
      ]
     },
     "execution_count": 8,
     "metadata": {},
     "output_type": "execute_result"
    }
   ],
   "source": [
    "len(apply)"
   ]
  }
 ],
 "metadata": {
  "kernelspec": {
   "display_name": "Python 2",
   "language": "python",
   "name": "python2"
  },
  "language_info": {
   "codemirror_mode": {
    "name": "ipython",
    "version": 2
   },
   "file_extension": ".py",
   "mimetype": "text/x-python",
   "name": "python",
   "nbconvert_exporter": "python",
   "pygments_lexer": "ipython2",
   "version": "2.7.6"
  }
 },
 "nbformat": 4,
 "nbformat_minor": 0
}
