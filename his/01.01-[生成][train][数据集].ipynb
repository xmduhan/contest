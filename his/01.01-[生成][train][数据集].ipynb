{
 "cells": [
  {
   "cell_type": "code",
   "execution_count": 1,
   "metadata": {
    "collapsed": false
   },
   "outputs": [],
   "source": [
    "import re\n",
    "import pandas as pd\n",
    "from os.path import join\n",
    "from pandas import DataFrame\n",
    "from pandas import HDFStore\n",
    "from helper import page_view_stat\n",
    "from helper import removeDataFrame"
   ]
  },
  {
   "cell_type": "markdown",
   "metadata": {},
   "source": [
    "### 0. 准备工作"
   ]
  },
  {
   "cell_type": "markdown",
   "metadata": {},
   "source": [
    "#### (1). 通用字段定义"
   ]
  },
  {
   "cell_type": "code",
   "execution_count": 2,
   "metadata": {
    "collapsed": false
   },
   "outputs": [],
   "source": [
    "typeDefines = {u'dev_id': str, u'stat_date': str, u'stat_time': str, u'post_id': int, 'type': int, 'stat_view': int, 'stat_click': int}\n",
    "header = ['dev_id', 'stat_date', 'stat_time', 'post_id', 'type', 'stat_view', 'stat_click']\n",
    "dtypes = [typeDefines[col] for col in header]\n",
    "dbName = 'db.h5'"
   ]
  },
  {
   "cell_type": "markdown",
   "metadata": {},
   "source": [
    "####  (2). 获得数据文件列表"
   ]
  },
  {
   "cell_type": "code",
   "execution_count": 3,
   "metadata": {
    "collapsed": true
   },
   "outputs": [],
   "source": [
    "fileList = !ls data\n",
    "fileList = filter(lambda x: re.match(r'^\\d{6}_\\d$', x), fileList)\n",
    "fileList = map(lambda x: join('data', x), fileList)"
   ]
  },
  {
   "cell_type": "markdown",
   "metadata": {},
   "source": [
    "### 2. 整理train相关的page_view数据"
   ]
  },
  {
   "cell_type": "code",
   "execution_count": 4,
   "metadata": {
    "collapsed": true
   },
   "outputs": [],
   "source": [
    "dfName = 'page_view_train'"
   ]
  },
  {
   "cell_type": "markdown",
   "metadata": {},
   "source": [
    "#### (1) 读取train清单"
   ]
  },
  {
   "cell_type": "code",
   "execution_count": 5,
   "metadata": {
    "collapsed": true
   },
   "outputs": [],
   "source": [
    "train = pd.read_csv('data/train.txt', sep='\\t', names=[u'dev_id', u'post_id', u'praise', u'time'])\n",
    "train = train.sort_values([u'dev_id', u'post_id', u'time', u'praise'])\n",
    "train = train.groupby([u'dev_id', u'post_id'])['praise'].last().reset_index()\n",
    "trainList = train[[u'dev_id', u'post_id']].drop_duplicates()"
   ]
  },
  {
   "cell_type": "markdown",
   "metadata": {},
   "source": [
    "#### (2). 定义处理函数"
   ]
  },
  {
   "cell_type": "code",
   "execution_count": 6,
   "metadata": {
    "collapsed": true
   },
   "outputs": [],
   "source": [
    "def load_page_view_train(filename):\n",
    "    \"\"\" \"\"\"\n",
    "    print '正在处理: %s' % filename, \n",
    "    # 按每次100万条方式处理, 数据文件\n",
    "    for df in pd.read_csv(filename ,sep='\\t', names=header, chunksize=1000000, converters=typeDefines):\n",
    "        #  关联上train过滤调多余数据\n",
    "        df = trainList.merge(df)\n",
    "        # 导出到hdf文件\n",
    "        df.to_hdf(dbName, dfName, append=True)\n",
    "        print '.',\n",
    "    print '(ok)'"
   ]
  },
  {
   "cell_type": "markdown",
   "metadata": {},
   "source": [
    "#### (3). 生成page_view清单"
   ]
  },
  {
   "cell_type": "code",
   "execution_count": 7,
   "metadata": {
    "collapsed": false
   },
   "outputs": [
    {
     "name": "stdout",
     "output_type": "stream",
     "text": [
      "正在处理: data/000000_0 . . . . . . . . . . . . . . . . . . . . (ok)\n",
      "正在处理: data/000001_0 . . . . . . . . . . . . . . . . . (ok)\n",
      "正在处理: data/000002_0 . . . . . . . . . . . . . . . . (ok)\n",
      "正在处理: data/000003_0 . . . . . . . . . . . . . . . (ok)\n",
      "正在处理: data/000004_0 . . . . . . . . . . . . . . (ok)\n",
      "正在处理: data/000005_0 . . . . . . . . . (ok)\n",
      "正在处理: data/000006_0 . . . . . . (ok)\n",
      "正在处理: data/000007_0 . . . (ok)\n",
      "CPU times: user 4min 58s, sys: 8.34 s, total: 5min 6s\n",
      "Wall time: 5min 12s\n"
     ]
    }
   ],
   "source": [
    "%%time\n",
    "removeDataFrame(dfName)\n",
    "for filename in fileList:\n",
    "    load_page_view_train(filename)"
   ]
  },
  {
   "cell_type": "markdown",
   "metadata": {},
   "source": [
    "### 3. 关联trian和page_view数据生成train数据集"
   ]
  },
  {
   "cell_type": "markdown",
   "metadata": {
    "collapsed": false
   },
   "source": [
    "#### (1). 读取整理过的page_view清单"
   ]
  },
  {
   "cell_type": "code",
   "execution_count": 8,
   "metadata": {
    "collapsed": false
   },
   "outputs": [
    {
     "data": {
      "text/plain": [
       "909470"
      ]
     },
     "execution_count": 8,
     "metadata": {},
     "output_type": "execute_result"
    }
   ],
   "source": [
    "page_view_train = pd.read_hdf(dbName, dfName)\n",
    "len(page_view_train)"
   ]
  },
  {
   "cell_type": "code",
   "execution_count": 9,
   "metadata": {
    "collapsed": false
   },
   "outputs": [
    {
     "data": {
      "text/plain": [
       "293288"
      ]
     },
     "execution_count": 9,
     "metadata": {},
     "output_type": "execute_result"
    }
   ],
   "source": [
    "len(page_view_train[['dev_id','post_id']].drop_duplicates())"
   ]
  },
  {
   "cell_type": "markdown",
   "metadata": {},
   "source": [
    "#### (2). 统计汇总"
   ]
  },
  {
   "cell_type": "code",
   "execution_count": 10,
   "metadata": {
    "collapsed": false
   },
   "outputs": [],
   "source": [
    "df = page_view_stat(page_view_train)"
   ]
  },
  {
   "cell_type": "code",
   "execution_count": 11,
   "metadata": {
    "collapsed": false
   },
   "outputs": [
    {
     "data": {
      "text/plain": [
       "293288"
      ]
     },
     "execution_count": 11,
     "metadata": {},
     "output_type": "execute_result"
    }
   ],
   "source": [
    "len(df[['dev_id','post_id']].drop_duplicates())"
   ]
  },
  {
   "cell_type": "markdown",
   "metadata": {},
   "source": [
    "#### (3). 保存到训练集中"
   ]
  },
  {
   "cell_type": "code",
   "execution_count": 12,
   "metadata": {
    "collapsed": false
   },
   "outputs": [],
   "source": [
    "dfName = 'train'\n",
    "removeDataFrame(dfName)\n",
    "train.merge(df).to_hdf(dbName, dfName, append=True)"
   ]
  }
 ],
 "metadata": {
  "kernelspec": {
   "display_name": "Python 2",
   "language": "python",
   "name": "python2"
  },
  "language_info": {
   "codemirror_mode": {
    "name": "ipython",
    "version": 2
   },
   "file_extension": ".py",
   "mimetype": "text/x-python",
   "name": "python",
   "nbconvert_exporter": "python",
   "pygments_lexer": "ipython2",
   "version": "2.7.6"
  }
 },
 "nbformat": 4,
 "nbformat_minor": 0
}
