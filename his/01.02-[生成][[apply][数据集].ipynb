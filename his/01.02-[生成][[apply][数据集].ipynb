{
 "cells": [
  {
   "cell_type": "code",
   "execution_count": 1,
   "metadata": {
    "collapsed": false
   },
   "outputs": [],
   "source": [
    "import re\n",
    "import pandas as pd\n",
    "from os.path import join\n",
    "from pandas import DataFrame\n",
    "from pandas import HDFStore\n",
    "from helper import page_view_stat\n",
    "from helper import removeDataFrame\n",
    "from pandas import HDFStore"
   ]
  },
  {
   "cell_type": "markdown",
   "metadata": {},
   "source": [
    "### 0. 准备工作"
   ]
  },
  {
   "cell_type": "markdown",
   "metadata": {},
   "source": [
    "#### (1). 通用字段定义"
   ]
  },
  {
   "cell_type": "code",
   "execution_count": 2,
   "metadata": {
    "collapsed": true
   },
   "outputs": [],
   "source": [
    "typeDefines = {u'dev_id': str, u'stat_date': str, u'stat_time': str, u'post_id': int, 'type': int, 'stat_view': int, 'stat_click': int}\n",
    "header = ['dev_id', 'stat_date', 'stat_time', 'post_id', 'type', 'stat_view', 'stat_click']\n",
    "dtypes = [typeDefines[col] for col in header]\n",
    "dbName = 'db.h5'"
   ]
  },
  {
   "cell_type": "markdown",
   "metadata": {},
   "source": [
    "####  (2). 获得数据文件列表"
   ]
  },
  {
   "cell_type": "code",
   "execution_count": 3,
   "metadata": {
    "collapsed": true
   },
   "outputs": [],
   "source": [
    "fileList = !ls data\n",
    "fileList = filter(lambda x: re.match(r'^\\d{6}_\\d$', x), fileList)\n",
    "fileList = map(lambda x: join('data', x), fileList)"
   ]
  },
  {
   "cell_type": "markdown",
   "metadata": {},
   "source": [
    "### 1. 整理apply相关的page_view清单"
   ]
  },
  {
   "cell_type": "code",
   "execution_count": 4,
   "metadata": {
    "collapsed": true
   },
   "outputs": [],
   "source": [
    "dfName = 'page_view_apply'"
   ]
  },
  {
   "cell_type": "markdown",
   "metadata": {},
   "source": [
    "#### (1).定义处理函数"
   ]
  },
  {
   "cell_type": "code",
   "execution_count": 5,
   "metadata": {
    "collapsed": false
   },
   "outputs": [],
   "source": [
    "def load_page_view_apply(filename):\n",
    "    \"\"\" \"\"\"\n",
    "    print '正在处理: %s' % filename, \n",
    "    # 按每次100万条方式处理, 数据文件\n",
    "    for df in pd.read_csv(filename ,sep='\\t', names=header, chunksize=1000000, converters=typeDefines):\n",
    "        # 过滤待评估的3天的数据, 并导出到数据集中\n",
    "        c1 = df['stat_date'] == '20151128'\n",
    "        df[c1].to_hdf(dbName, dfName +  '_'  + '20151128' , append=True)        \n",
    "        c2 = df['stat_date'] == '20151129'\n",
    "        df[c2].to_hdf(dbName, dfName +  '_'  + '20151129', append=True)        \n",
    "        c3 = df['stat_date'] == '20151130'\n",
    "        df[c3].to_hdf(dbName, dfName +  '_'  + '20151130', append=True)        \n",
    "        print '.',\n",
    "    print '(ok)'"
   ]
  },
  {
   "cell_type": "markdown",
   "metadata": {},
   "source": [
    "#### (2). 生成清单"
   ]
  },
  {
   "cell_type": "code",
   "execution_count": 6,
   "metadata": {
    "collapsed": false
   },
   "outputs": [
    {
     "name": "stdout",
     "output_type": "stream",
     "text": [
      "正在处理: data/000000_0 . . . . . . . . . . . . . . . . . . . . (ok)\n",
      "正在处理: data/000001_0 . . . . . . . . . . . . . . . . . (ok)\n",
      "正在处理: data/000002_0 . . . . . . . . . . . . . . . . (ok)\n",
      "正在处理: data/000003_0 . . . . . . . . . . . . . . . (ok)\n",
      "正在处理: data/000004_0 . . . . . . . . . . . . . . (ok)\n",
      "正在处理: data/000005_0 . . . . . . . . . (ok)\n",
      "正在处理: data/000006_0 . . . . . . (ok)\n",
      "正在处理: data/000007_0 . . . (ok)\n",
      "CPU times: user 4min 31s, sys: 11.1 s, total: 4min 42s\n",
      "Wall time: 4min 49s\n"
     ]
    }
   ],
   "source": [
    "%%time\n",
    "removeDataFrame(dfName +  '_'  + '20151128')\n",
    "removeDataFrame(dfName +  '_'  + '20151129')\n",
    "removeDataFrame(dfName +  '_'  + '20151130')\n",
    "for filename in fileList:\n",
    "    load_page_view_apply(filename)"
   ]
  },
  {
   "cell_type": "markdown",
   "metadata": {},
   "source": [
    "### 2. 生成apply数据集"
   ]
  },
  {
   "cell_type": "code",
   "execution_count": 7,
   "metadata": {
    "collapsed": false
   },
   "outputs": [],
   "source": [
    "page_view_apply = pd.read_hdf(dbName, dfName +  '_'  + '20151128' )\n",
    "df1 = page_view_stat(page_view_apply)\n",
    "page_view_apply = pd.read_hdf(dbName, dfName +  '_'  + '20151129' )\n",
    "df2 = page_view_stat(page_view_apply)\n",
    "page_view_apply = pd.read_hdf(dbName, dfName +  '_'  + '20151130' )\n",
    "df3 = page_view_stat(page_view_apply)"
   ]
  },
  {
   "cell_type": "code",
   "execution_count": 8,
   "metadata": {
    "collapsed": true
   },
   "outputs": [],
   "source": [
    "df = pd.concat([df1, df2, df3])\n",
    "apply = df.groupby(['dev_id', 'post_id']).sum()\n",
    "apply = apply.reset_index()"
   ]
  },
  {
   "cell_type": "code",
   "execution_count": 9,
   "metadata": {
    "collapsed": false
   },
   "outputs": [],
   "source": [
    "dfName = 'apply'\n",
    "removeDataFrame(dfName)\n",
    "apply.to_hdf(dbName, dfName, append=True)"
   ]
  }
 ],
 "metadata": {
  "kernelspec": {
   "display_name": "Python 2",
   "language": "python",
   "name": "python2"
  },
  "language_info": {
   "codemirror_mode": {
    "name": "ipython",
    "version": 2
   },
   "file_extension": ".py",
   "mimetype": "text/x-python",
   "name": "python",
   "nbconvert_exporter": "python",
   "pygments_lexer": "ipython2",
   "version": "2.7.6"
  }
 },
 "nbformat": 4,
 "nbformat_minor": 0
}
