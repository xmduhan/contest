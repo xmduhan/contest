{
 "cells": [
  {
   "cell_type": "code",
   "execution_count": 73,
   "metadata": {
    "collapsed": false
   },
   "outputs": [],
   "source": [
    "import pandas as pd\n",
    "import pickle\n",
    "from sklearn.tree import DecisionTreeClassifier\n",
    "from sklearn.ensemble import RandomForestClassifier, AdaBoostClassifier\n",
    "from sklearn.linear_model import LogisticRegression\n",
    "from sklearn.neighbors import KNeighborsClassifier\n",
    "from sklearn.naive_bayes import GaussianNB\n",
    "from sklearn.naive_bayes import MultinomialNB\n",
    "from sklearn.naive_bayes import BernoulliNB\n",
    "#from sklearn.discriminant_analysis import LinearDiscriminantAnalysis\n",
    "#from sklearn.discriminant_analysis import QuadraticDiscriminantAnalysis\n",
    "from sklearn.qda import QDA\n",
    "from sklearn.svm import SVC\n",
    "from sklearn.metrics import precision_recall_curve, roc_curve, auc  \n",
    "from sklearn.metrics import classification_report  \n",
    "from sklearn.cross_validation import train_test_split\n",
    "%matplotlib inline  "
   ]
  },
  {
   "cell_type": "markdown",
   "metadata": {},
   "source": [
    "### 1. 准备数据"
   ]
  },
  {
   "cell_type": "markdown",
   "metadata": {},
   "source": [
    "### (1). 导入训练集"
   ]
  },
  {
   "cell_type": "code",
   "execution_count": 74,
   "metadata": {
    "collapsed": true
   },
   "outputs": [],
   "source": [
    "header = ['dev_id', 'post_id', 'stat_view', 'stat_click', 'max_stat_date', 'min_stat_date', 'ds', 'stat_view_1'  ,                                                                    \n",
    "    'stat_click_1', 'stat_view_2', 'stat_click_2', 'p1', 'p1_time', 'p2', 'p2_time', 'ucnt1', 'upct1', 'ucnt2',\n",
    "    'upct2', 'pcnt1', 'ppct1', 'pcnt2', 'ppct2', 'rela_p1_cnt', 'rela_p2_cnt', 'n'\n",
    "]  "
   ]
  },
  {
   "cell_type": "code",
   "execution_count": 75,
   "metadata": {
    "collapsed": true
   },
   "outputs": [],
   "source": [
    "df = pd.read_csv('data/model_detail.csv', names= header)"
   ]
  },
  {
   "cell_type": "markdown",
   "metadata": {},
   "source": [
    "###  (2). 数据混合"
   ]
  },
  {
   "cell_type": "code",
   "execution_count": 76,
   "metadata": {
    "collapsed": false
   },
   "outputs": [],
   "source": [
    "c1 = df['p1'] == 1\n",
    "c2 = df['p1'] == 0\n",
    "df = pd.concat([df[c1], df[c2].sample(len(df[c1]))])"
   ]
  },
  {
   "cell_type": "markdown",
   "metadata": {},
   "source": [
    "### (3). 拆分建模和测试集"
   ]
  },
  {
   "cell_type": "code",
   "execution_count": 77,
   "metadata": {
    "collapsed": false
   },
   "outputs": [
    {
     "name": "stdout",
     "output_type": "stream",
     "text": [
      "len(train) =  353582\n",
      "len(test) =  88396\n"
     ]
    }
   ],
   "source": [
    "train, test = train_test_split(df, test_size=.2)\n",
    "print 'len(train) = ', len(train)\n",
    "print 'len(test) = ', len(test)"
   ]
  },
  {
   "cell_type": "markdown",
   "metadata": {
    "collapsed": true
   },
   "source": [
    "### 2. 建模"
   ]
  },
  {
   "cell_type": "markdown",
   "metadata": {},
   "source": [
    "#### (1). 定义建模字段"
   ]
  },
  {
   "cell_type": "code",
   "execution_count": 78,
   "metadata": {
    "collapsed": true
   },
   "outputs": [],
   "source": [
    "xcols = [\n",
    "    'stat_view', 'stat_click', 'stat_view_1', 'stat_click_1', 'stat_view_2', 'stat_click_2', \n",
    "    'ucnt1', 'upct1', 'ucnt2', 'upct2', 'pcnt1', 'ppct1', 'pcnt2', 'ppct2', 'rela_p1_cnt', 'rela_p2_cnt',\n",
    "]\n",
    "ycol = 'p1'"
   ]
  },
  {
   "cell_type": "code",
   "execution_count": 79,
   "metadata": {
    "collapsed": true
   },
   "outputs": [],
   "source": [
    "train_x = train[xcols]\n",
    "train_y = train[ycol]\n",
    "test_x = test[xcols]"
   ]
  },
  {
   "cell_type": "markdown",
   "metadata": {},
   "source": [
    "#### (2). 创建分类器"
   ]
  },
  {
   "cell_type": "code",
   "execution_count": 80,
   "metadata": {
    "collapsed": false
   },
   "outputs": [],
   "source": [
    "# classifier = QDA()\n",
    "# classifier = RandomForestClassifier(max_depth=6, n_estimators=10, max_features=4)\n",
    "# classifier = RandomForestClassifier(max_depth=5, n_estimators=10, max_features=1)\n",
    "# classifier =DecisionTreeClassifier(max_depth=5)\n",
    "# classifier = SVC(probability=True)   # ***慢 ***\n",
    "#classifier = SVC(kernel=\"linear\", C=0.025)\n",
    "# classifier = SVC(gamma=2, C=1)\n",
    "# classifier = KNeighborsClassifier(3)  # ***慢 ***\n",
    "# classifier = AdaBoostClassifier()\n",
    "classifier = GaussianNB()\n",
    "# classifier = MultinomialNB()\n",
    "# classifier = BernoulliNB()"
   ]
  },
  {
   "cell_type": "markdown",
   "metadata": {},
   "source": [
    "#### (3). 建模并获取结果"
   ]
  },
  {
   "cell_type": "code",
   "execution_count": 81,
   "metadata": {
    "collapsed": false
   },
   "outputs": [
    {
     "name": "stderr",
     "output_type": "stream",
     "text": [
      "-c:4: SettingWithCopyWarning: \n",
      "A value is trying to be set on a copy of a slice from a DataFrame.\n",
      "Try using .loc[row_indexer,col_indexer] = value instead\n",
      "\n",
      "See the caveats in the documentation: http://pandas.pydata.org/pandas-docs/stable/indexing.html#indexing-view-versus-copy\n"
     ]
    }
   ],
   "source": [
    "classifier.fit(train_x, train_y) \n",
    "proba = classifier.predict_proba(test_x)\n",
    "result = test\n",
    "result['pct']  = proba[:,1]"
   ]
  },
  {
   "cell_type": "markdown",
   "metadata": {},
   "source": [
    "#### (4). 整理结果数据"
   ]
  },
  {
   "cell_type": "code",
   "execution_count": 82,
   "metadata": {
    "collapsed": false
   },
   "outputs": [],
   "source": [
    "result = result[['dev_id', 'post_id', 'p1', 'pct']]\n",
    "result = result.sort_values('pct', ascending=False)\n",
    "result['n'] = range(1, len(result)+1)\n",
    "result['cumsum'] =  result['p1'].cumsum() \n",
    "stat = result['cumsum'] / result['n']"
   ]
  },
  {
   "cell_type": "markdown",
   "metadata": {},
   "source": [
    "#### (5). 作图"
   ]
  },
  {
   "cell_type": "code",
   "execution_count": 83,
   "metadata": {
    "collapsed": false
   },
   "outputs": [
    {
     "data": {
      "text/plain": [
       "<matplotlib.axes._subplots.AxesSubplot at 0x7f020d1bca10>"
      ]
     },
     "execution_count": 83,
     "metadata": {},
     "output_type": "execute_result"
    },
    {
     "data": {
      "image/png": "[encoded data removed]",
      "text/plain": [
       "<matplotlib.figure.Figure at 0x7f020d99a450>"
      ]
     },
     "metadata": {},
     "output_type": "display_data"
    }
   ],
   "source": [
    "stat.reset_index(drop=True).plot()"
   ]
  },
  {
   "cell_type": "markdown",
   "metadata": {},
   "source": [
    "### 3. 保存分类器"
   ]
  },
  {
   "cell_type": "code",
   "execution_count": 84,
   "metadata": {
    "collapsed": true
   },
   "outputs": [],
   "source": [
    "pickle.dump(classifier, open('p1.pk', 'wb'))"
   ]
  }
 ],
 "metadata": {
  "kernelspec": {
   "display_name": "IPython (Python 2)",
   "language": "python",
   "name": "python2"
  },
  "language_info": {
   "codemirror_mode": {
    "name": "ipython",
    "version": 2
   },
   "file_extension": ".py",
   "mimetype": "text/x-python",
   "name": "python",
   "nbconvert_exporter": "python",
   "pygments_lexer": "ipython2",
   "version": "2.7.6"
  }
 },
 "nbformat": 4,
 "nbformat_minor": 0
}
