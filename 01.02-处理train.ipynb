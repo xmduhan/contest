{
 "cells": [
  {
   "cell_type": "code",
   "execution_count": 47,
   "metadata": {
    "collapsed": true
   },
   "outputs": [],
   "source": [
    "import pandas as pd"
   ]
  },
  {
   "cell_type": "code",
   "execution_count": 48,
   "metadata": {
    "collapsed": false
   },
   "outputs": [
    {
     "data": {
      "text/html": [
       "<div>\n",
       "<table border=\"1\" class=\"dataframe\">\n",
       "  <thead>\n",
       "    <tr style=\"text-align: right;\">\n",
       "      <th></th>\n",
       "      <th>dev_id</th>\n",
       "      <th>post_id</th>\n",
       "      <th>praise</th>\n",
       "      <th>time</th>\n",
       "    </tr>\n",
       "  </thead>\n",
       "  <tbody>\n",
       "    <tr>\n",
       "      <th>0</th>\n",
       "      <td>8437c6fd866b5426f995569f13dca754</td>\n",
       "      <td>517255</td>\n",
       "      <td>1</td>\n",
       "      <td>20151108062757</td>\n",
       "    </tr>\n",
       "    <tr>\n",
       "      <th>1</th>\n",
       "      <td>8437c6fd866b5426f995569f13dca754</td>\n",
       "      <td>532326</td>\n",
       "      <td>1</td>\n",
       "      <td>20151116065912</td>\n",
       "    </tr>\n",
       "    <tr>\n",
       "      <th>2</th>\n",
       "      <td>8437c6fd866b5426f995569f13dca754</td>\n",
       "      <td>532350</td>\n",
       "      <td>1</td>\n",
       "      <td>20151116065831</td>\n",
       "    </tr>\n",
       "    <tr>\n",
       "      <th>3</th>\n",
       "      <td>8437c6fd866b5426f995569f13dca754</td>\n",
       "      <td>532354</td>\n",
       "      <td>1</td>\n",
       "      <td>20151116065753</td>\n",
       "    </tr>\n",
       "    <tr>\n",
       "      <th>4</th>\n",
       "      <td>8437c6fd866b5426f995569f13dca754</td>\n",
       "      <td>532356</td>\n",
       "      <td>1</td>\n",
       "      <td>20151116065734</td>\n",
       "    </tr>\n",
       "  </tbody>\n",
       "</table>\n",
       "</div>"
      ],
      "text/plain": [
       "                             dev_id  post_id  praise            time\n",
       "0  8437c6fd866b5426f995569f13dca754   517255       1  20151108062757\n",
       "1  8437c6fd866b5426f995569f13dca754   532326       1  20151116065912\n",
       "2  8437c6fd866b5426f995569f13dca754   532350       1  20151116065831\n",
       "3  8437c6fd866b5426f995569f13dca754   532354       1  20151116065753\n",
       "4  8437c6fd866b5426f995569f13dca754   532356       1  20151116065734"
      ]
     },
     "execution_count": 48,
     "metadata": {},
     "output_type": "execute_result"
    }
   ],
   "source": [
    "df = pd.read_csv('data/train.txt', sep='\\t', names=[u'dev_id', u'post_id', u'praise', u'time'])\n",
    "df.head()"
   ]
  },
  {
   "cell_type": "markdown",
   "metadata": {},
   "source": [
    "### 1. 一篇文章可能被一个用户多次点赞"
   ]
  },
  {
   "cell_type": "markdown",
   "metadata": {},
   "source": [
    "#### (1). 多次点赞"
   ]
  },
  {
   "cell_type": "code",
   "execution_count": 49,
   "metadata": {
    "collapsed": false
   },
   "outputs": [
    {
     "data": {
      "text/plain": [
       "293"
      ]
     },
     "execution_count": 49,
     "metadata": {},
     "output_type": "execute_result"
    }
   ],
   "source": [
    "stat = df.groupby(['dev_id', 'post_id'])['praise'].count()\n",
    "len(stat[stat > 1])"
   ]
  },
  {
   "cell_type": "code",
   "execution_count": 50,
   "metadata": {
    "collapsed": false
   },
   "outputs": [
    {
     "data": {
      "text/html": [
       "<div>\n",
       "<table border=\"1\" class=\"dataframe\">\n",
       "  <thead>\n",
       "    <tr style=\"text-align: right;\">\n",
       "      <th></th>\n",
       "      <th>dev_id</th>\n",
       "      <th>post_id</th>\n",
       "      <th>praise</th>\n",
       "      <th>time</th>\n",
       "    </tr>\n",
       "  </thead>\n",
       "  <tbody>\n",
       "    <tr>\n",
       "      <th>6724</th>\n",
       "      <td>0021f413fc3fd8d3ef911abd220e4ad4</td>\n",
       "      <td>507763</td>\n",
       "      <td>1</td>\n",
       "      <td>20151101184432</td>\n",
       "    </tr>\n",
       "    <tr>\n",
       "      <th>137893</th>\n",
       "      <td>0021f413fc3fd8d3ef911abd220e4ad4</td>\n",
       "      <td>507763</td>\n",
       "      <td>1</td>\n",
       "      <td>20151102073641</td>\n",
       "    </tr>\n",
       "  </tbody>\n",
       "</table>\n",
       "</div>"
      ],
      "text/plain": [
       "                                  dev_id  post_id  praise            time\n",
       "6724    0021f413fc3fd8d3ef911abd220e4ad4   507763       1  20151101184432\n",
       "137893  0021f413fc3fd8d3ef911abd220e4ad4   507763       1  20151102073641"
      ]
     },
     "execution_count": 50,
     "metadata": {},
     "output_type": "execute_result"
    }
   ],
   "source": [
    "c1 = df['dev_id'] == '0021f413fc3fd8d3ef911abd220e4ad4'\n",
    "c2 = df['post_id'] == 507763\n",
    "df[c1 & c2]"
   ]
  },
  {
   "cell_type": "markdown",
   "metadata": {},
   "source": [
    "#### (2). 不同的时间点踩和赞"
   ]
  },
  {
   "cell_type": "code",
   "execution_count": 51,
   "metadata": {
    "collapsed": false
   },
   "outputs": [
    {
     "data": {
      "text/plain": [
       "dev_id                            post_id\n",
       "27f569ff7af55500a175bd3f0a16a1ea  520857     2\n",
       "                                  523031     2\n",
       "aecfc620642bc000296b46d4e07284e7  513842     2\n",
       "cb1fb7a517e3aabc797af9c809a124d4  516134     2\n",
       "ee613cade8eaf68fa467fcbdc4eeff6b  553246     2\n",
       "Name: praise, dtype: int64"
      ]
     },
     "execution_count": 51,
     "metadata": {},
     "output_type": "execute_result"
    }
   ],
   "source": [
    "stat = df.groupby(['dev_id', 'post_id'])['praise'].nunique()\n",
    "stat[stat > 1]"
   ]
  },
  {
   "cell_type": "code",
   "execution_count": 52,
   "metadata": {
    "collapsed": false
   },
   "outputs": [
    {
     "data": {
      "text/html": [
       "<div>\n",
       "<table border=\"1\" class=\"dataframe\">\n",
       "  <thead>\n",
       "    <tr style=\"text-align: right;\">\n",
       "      <th></th>\n",
       "      <th>dev_id</th>\n",
       "      <th>post_id</th>\n",
       "      <th>praise</th>\n",
       "      <th>time</th>\n",
       "    </tr>\n",
       "  </thead>\n",
       "  <tbody>\n",
       "    <tr>\n",
       "      <th>214841</th>\n",
       "      <td>27f569ff7af55500a175bd3f0a16a1ea</td>\n",
       "      <td>520857</td>\n",
       "      <td>2</td>\n",
       "      <td>20151111144629</td>\n",
       "    </tr>\n",
       "    <tr>\n",
       "      <th>400112</th>\n",
       "      <td>27f569ff7af55500a175bd3f0a16a1ea</td>\n",
       "      <td>520857</td>\n",
       "      <td>1</td>\n",
       "      <td>20151112045912</td>\n",
       "    </tr>\n",
       "  </tbody>\n",
       "</table>\n",
       "</div>"
      ],
      "text/plain": [
       "                                  dev_id  post_id  praise            time\n",
       "214841  27f569ff7af55500a175bd3f0a16a1ea   520857       2  20151111144629\n",
       "400112  27f569ff7af55500a175bd3f0a16a1ea   520857       1  20151112045912"
      ]
     },
     "execution_count": 52,
     "metadata": {},
     "output_type": "execute_result"
    }
   ],
   "source": [
    "c1 = df['dev_id'] == '27f569ff7af55500a175bd3f0a16a1ea'\n",
    "c2 = df['post_id'] == 520857\n",
    "df[c1 & c2]"
   ]
  },
  {
   "cell_type": "markdown",
   "metadata": {},
   "source": [
    "### 2. 最大的时间和最小的时间"
   ]
  },
  {
   "cell_type": "code",
   "execution_count": 53,
   "metadata": {
    "collapsed": false
   },
   "outputs": [
    {
     "data": {
      "text/plain": [
       "(20151101000008, 20151127235945)"
      ]
     },
     "execution_count": 53,
     "metadata": {},
     "output_type": "execute_result"
    }
   ],
   "source": [
    "df['time'].min(), df['time'].max()"
   ]
  }
 ],
 "metadata": {
  "kernelspec": {
   "display_name": "Python 2",
   "language": "python",
   "name": "python2"
  },
  "language_info": {
   "codemirror_mode": {
    "name": "ipython",
    "version": 2
   },
   "file_extension": ".py",
   "mimetype": "text/x-python",
   "name": "python",
   "nbconvert_exporter": "python",
   "pygments_lexer": "ipython2",
   "version": "2.7.6"
  }
 },
 "nbformat": 4,
 "nbformat_minor": 0
}
