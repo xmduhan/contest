{
 "cells": [
  {
   "cell_type": "code",
   "execution_count": 1,
   "metadata": {
    "collapsed": true
   },
   "outputs": [],
   "source": [
    "import re\n",
    "import pandas as pd\n",
    "import jieba\n",
    "import jieba.posseg as pseg"
   ]
  },
  {
   "cell_type": "code",
   "execution_count": 2,
   "metadata": {
    "collapsed": true
   },
   "outputs": [],
   "source": [
    "df = pd.read_csv('data/post_data.txt', sep='\\t')\n",
    "df.columns = map(str.strip, df.columns)\n",
    "df = df[['id', 'content']]"
   ]
  },
  {
   "cell_type": "code",
   "execution_count": 3,
   "metadata": {
    "collapsed": true
   },
   "outputs": [],
   "source": [
    "num = re.compile('\\d+')"
   ]
  },
  {
   "cell_type": "code",
   "execution_count": 4,
   "metadata": {
    "collapsed": false
   },
   "outputs": [],
   "source": [
    "exList = [\n",
    "    u',', u'，', u'!', u'！', u'/', u'—', u'-', u'.', u'。', u'．', u'、', u'——', u'～', u'?', u'?', u'(', u')', u'（', u'）', u'\"', u'\\'', u'＂', u'＇', u'；', u';', u'“', u'”', u'^',\n",
    "    u':', u'：', '<200d>', u'…', u'|', u'｜', u'%', u'&', u'*', u'#', u'％', u'＆', u'＊', u'＃', u'~', u'？', '<200b>', u'《', u'》', u'...', u'☀'\n",
    "]"
   ]
  },
  {
   "cell_type": "code",
   "execution_count": 5,
   "metadata": {
    "collapsed": false
   },
   "outputs": [],
   "source": [
    "def cut(x):\n",
    "    result = list(jieba.cut(x))\n",
    "    result = map(unicode.strip, result)\n",
    "    result = filter(lambda x: len(x)>0, result)\n",
    "    result = filter(lambda x: x not in exList, result)\n",
    "    result = filter(lambda x: not num.match(x), result)\n",
    "    result = '|'.join(result)\n",
    "    return result"
   ]
  },
  {
   "cell_type": "code",
   "execution_count": 6,
   "metadata": {
    "collapsed": false
   },
   "outputs": [
    {
     "name": "stderr",
     "output_type": "stream",
     "text": [
      "Building prefix dict from /usr/local/lib/python2.7/dist-packages/jieba/dict.txt ...\n",
      "Loading model from cache /tmp/jieba.cache\n",
      "Loading model cost 0.330 seconds.\n",
      "Prefix dict has been built succesfully.\n"
     ]
    }
   ],
   "source": [
    "df['content']  = df['content'].fillna('')\n",
    "df['content']  = df['content'].apply(cut)"
   ]
  },
  {
   "cell_type": "code",
   "execution_count": 7,
   "metadata": {
    "collapsed": false
   },
   "outputs": [],
   "source": [
    "df.to_csv('data/post_data_cut.csv', encoding='utf8', index=False)"
   ]
  }
 ],
 "metadata": {
  "kernelspec": {
   "display_name": "Python 2",
   "language": "python",
   "name": "python2"
  },
  "language_info": {
   "codemirror_mode": {
    "name": "ipython",
    "version": 2
   },
   "file_extension": ".py",
   "mimetype": "text/x-python",
   "name": "python",
   "nbconvert_exporter": "python",
   "pygments_lexer": "ipython2",
   "version": "2.7.6"
  }
 },
 "nbformat": 4,
 "nbformat_minor": 0
}
