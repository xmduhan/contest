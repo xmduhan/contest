{
 "cells": [
  {
   "cell_type": "code",
   "execution_count": 1,
   "metadata": {
    "collapsed": true
   },
   "outputs": [],
   "source": [
    "from __future__ import division\n",
    "import pandas as pd\n",
    "from pandas import DataFrame"
   ]
  },
  {
   "cell_type": "code",
   "execution_count": 2,
   "metadata": {
    "collapsed": true
   },
   "outputs": [],
   "source": [
    "total = 53598"
   ]
  },
  {
   "cell_type": "code",
   "execution_count": 3,
   "metadata": {
    "collapsed": false
   },
   "outputs": [],
   "source": [
    "def getAccuracy(f1, total, cnt):\n",
    "    \"\"\"\n",
    "    计算数据集精确度\n",
    "    f1 值\n",
    "    total  正样本总数\n",
    "    cnt 当前记录集长度\n",
    "    \"\"\"\n",
    "    return f1 * (total +  cnt) / (2 * cnt)"
   ]
  },
  {
   "cell_type": "code",
   "execution_count": 4,
   "metadata": {
    "collapsed": false
   },
   "outputs": [],
   "source": [
    "fileList = !ls commits/*.txt\n",
    "dfList = []\n",
    "for filename in fileList:\n",
    "    df = pd.read_csv(filename, )\n",
    "    n = len(df)\n",
    "    if n == 0:\n",
    "        continue\n",
    "    f1 = df['f1'][0] / 1000000\n",
    "    df['pct'] = getAccuracy(f1, total, n)\n",
    "    dfList.append(df)\n",
    "df = pd.concat(dfList)\n",
    "dfList = None"
   ]
  },
  {
   "cell_type": "code",
   "execution_count": 5,
   "metadata": {
    "collapsed": false
   },
   "outputs": [],
   "source": [
    "gcols=['dev_id',  'post_id', 'p']\n",
    "g = df.groupby(gcols)['pct']\n",
    "df = DataFrame({'pct': g.mean(), 'cnt':g.count()})\n",
    "df = df.reset_index()"
   ]
  },
  {
   "cell_type": "code",
   "execution_count": 6,
   "metadata": {
    "collapsed": true
   },
   "outputs": [],
   "source": [
    "c1 = df['cnt'] >= df['cnt'].mean()\n",
    "df = df[c1]\n",
    "df = df.sort_values(['pct'], ascending=False)\n",
    "df = df[gcols]\n",
    "df = df[:total]"
   ]
  },
  {
   "cell_type": "code",
   "execution_count": 7,
   "metadata": {
    "collapsed": false
   },
   "outputs": [],
   "source": [
    "df['post_id'] = df['post_id'].apply(lambda x: int(float(x)))\n",
    "df['p'] = df['p'].apply(lambda x: int(float(x)))"
   ]
  },
  {
   "cell_type": "code",
   "execution_count": 8,
   "metadata": {
    "collapsed": false
   },
   "outputs": [
    {
     "name": "stdout",
     "output_type": "stream",
     "text": [
      "53598\n"
     ]
    }
   ],
   "source": [
    "print len(df)\n",
    "df.to_csv('result.txt', sep='\\t', header=False, index=False)"
   ]
  }
 ],
 "metadata": {
  "kernelspec": {
   "display_name": "Python 2",
   "language": "python",
   "name": "python2"
  },
  "language_info": {
   "codemirror_mode": {
    "name": "ipython",
    "version": 2
   },
   "file_extension": ".py",
   "mimetype": "text/x-python",
   "name": "python",
   "nbconvert_exporter": "python",
   "pygments_lexer": "ipython2",
   "version": "2.7.6"
  }
 },
 "nbformat": 4,
 "nbformat_minor": 0
}
