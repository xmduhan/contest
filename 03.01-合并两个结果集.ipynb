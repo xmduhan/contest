{
 "cells": [
  {
   "cell_type": "code",
   "execution_count": 212,
   "metadata": {
    "collapsed": true
   },
   "outputs": [],
   "source": [
    "import os\n",
    "import pandas as pd"
   ]
  },
  {
   "cell_type": "code",
   "execution_count": 213,
   "metadata": {
    "collapsed": true
   },
   "outputs": [],
   "source": [
    "header = ['dev_id', 'post_id', 'praise']"
   ]
  },
  {
   "cell_type": "code",
   "execution_count": 214,
   "metadata": {
    "collapsed": false
   },
   "outputs": [
    {
     "data": {
      "text/plain": [
       "['p1/result10.txt',\n",
       " 'p1/result1.txt',\n",
       " 'p1/result2(17).txt',\n",
       " 'p1/result3.txt',\n",
       " 'p1/result4.txt',\n",
       " 'p1/result6(17).txt',\n",
       " 'p1/result8(16).txt',\n",
       " 'p1/result9.txt']"
      ]
     },
     "execution_count": 214,
     "metadata": {},
     "output_type": "execute_result"
    }
   ],
   "source": [
    "fileList = !ls  p1/*.txt\n",
    "fileList"
   ]
  },
  {
   "cell_type": "code",
   "execution_count": 215,
   "metadata": {
    "collapsed": true
   },
   "outputs": [],
   "source": [
    "n = 30000"
   ]
  },
  {
   "cell_type": "markdown",
   "metadata": {},
   "source": [
    "### 1. 算法1"
   ]
  },
  {
   "cell_type": "code",
   "execution_count": 216,
   "metadata": {
    "collapsed": false
   },
   "outputs": [
    {
     "name": "stdout",
     "output_type": "stream",
     "text": [
      "30000\n"
     ]
    }
   ],
   "source": [
    "dfList = map(lambda x: pd.read_csv(x, sep='\\t', names=header) , fileList)\n",
    "df = pd.concat(dfList)\n",
    "df['n'] = 1\n",
    "df = df.groupby(header)['n'].count().reset_index()\n",
    "df = df.sort_values('n', ascending=False)\n",
    "df = df[:n]\n",
    "print len(df)\n",
    "df.to_csv('result.txt', sep='\\t', header=False, index=False)"
   ]
  },
  {
   "cell_type": "markdown",
   "metadata": {},
   "source": [
    "### 2. 算法2"
   ]
  },
  {
   "cell_type": "code",
   "execution_count": 217,
   "metadata": {
    "collapsed": false
   },
   "outputs": [
    {
     "name": "stdout",
     "output_type": "stream",
     "text": [
      "54288\n"
     ]
    }
   ],
   "source": [
    "dfList = map(lambda x: pd.read_csv(x, sep='\\t', names=header) , fileList)\n",
    "df = pd.concat(dfList).drop_duplicates()\n",
    "# df = df[:n]\n",
    "print len(df)\n",
    "df.to_csv('result.txt', sep='\\t', header=False, index=False)"
   ]
  },
  {
   "cell_type": "code",
   "execution_count": null,
   "metadata": {
    "collapsed": true
   },
   "outputs": [],
   "source": []
  },
  {
   "cell_type": "code",
   "execution_count": null,
   "metadata": {
    "collapsed": true
   },
   "outputs": [],
   "source": []
  }
 ],
 "metadata": {
  "kernelspec": {
   "display_name": "IPython (Python 2)",
   "language": "python",
   "name": "python2"
  },
  "language_info": {
   "codemirror_mode": {
    "name": "ipython",
    "version": 2
   },
   "file_extension": ".py",
   "mimetype": "text/x-python",
   "name": "python",
   "nbconvert_exporter": "python",
   "pygments_lexer": "ipython2",
   "version": "2.7.6"
  }
 },
 "nbformat": 4,
 "nbformat_minor": 0
}
