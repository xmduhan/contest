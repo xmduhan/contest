{
 "cells": [
  {
   "cell_type": "code",
   "execution_count": 2,
   "metadata": {
    "collapsed": false
   },
   "outputs": [],
   "source": [
    "import re\n",
    "import pandas as pd\n",
    "from os.path import join\n",
    "from pandas import HDFStore"
   ]
  },
  {
   "cell_type": "code",
   "execution_count": 3,
   "metadata": {
    "collapsed": false
   },
   "outputs": [],
   "source": [
    "fileList = !ls data\n",
    "fileList = filter(lambda x: re.match(r'^\\d{6}_\\d$', x), fileList)\n",
    "fileList = map(lambda x: join('data', x), fileList)"
   ]
  },
  {
   "cell_type": "markdown",
   "metadata": {},
   "source": [
    "### 1. 导入train数据集, 用于过滤数据"
   ]
  },
  {
   "cell_type": "code",
   "execution_count": null,
   "metadata": {
    "collapsed": true
   },
   "outputs": [],
   "source": [
    "train = pd.read_csv('data/train.txt', sep='\\t', names=[u'dev_id', u'post_id', u'praise', u'time'])\n",
    "train = train[[u'dev_id', u'post_id']].drop_duplicates()"
   ]
  },
  {
   "cell_type": "markdown",
   "metadata": {},
   "source": [
    "### 定义导入方法"
   ]
  },
  {
   "cell_type": "code",
   "execution_count": 11,
   "metadata": {
    "collapsed": true
   },
   "outputs": [],
   "source": [
    "typeDefines = {u'dev_id': str, u'stat_date': str, u'stat_time': str, u'post_id': int, 'type': int, 'stat_view': int, 'stat_click': int}\n",
    "def load_page_view_data(filename):\n",
    "    \"\"\" \"\"\"\n",
    "    # 按每次100万条方式处理, 数据文件\n",
    "    for df in pd.read_csv(filename ,sep='\\t', names=['dev_id', 'stat_date', 'stat_time', 'post_id', 'type', 'stat_view', 'stat_click'], chunksize=1000000):\n",
    "        \n",
    "        # 处理导入数据集的字段类型\n",
    "        for col, vt in typeDefines.iteritems():\n",
    "            df[col] = df[col].astype(vt)\n",
    "            \n",
    "        #  关联上train过滤调多余数据\n",
    "        df = train.merge(df)\n",
    "        \n",
    "        # 导出到hdf文件\n",
    "        df.to_hdf('db.h5', 'page_view', append=True)"
   ]
  },
  {
   "cell_type": "code",
   "execution_count": 17,
   "metadata": {
    "collapsed": false
   },
   "outputs": [],
   "source": [
    "load_page_view_data('data/000000_0')"
   ]
  },
  {
   "cell_type": "code",
   "execution_count": 11,
   "metadata": {
    "collapsed": false
   },
   "outputs": [
    {
     "data": {
      "text/plain": [
       "474012"
      ]
     },
     "execution_count": 11,
     "metadata": {},
     "output_type": "execute_result"
    }
   ],
   "source": [
    "len(train)"
   ]
  },
  {
   "cell_type": "code",
   "execution_count": 16,
   "metadata": {
    "collapsed": false
   },
   "outputs": [
    {
     "data": {
      "text/plain": [
       "27141"
      ]
     },
     "execution_count": 16,
     "metadata": {},
     "output_type": "execute_result"
    }
   ],
   "source": [
    "df = train.merge(df)\n",
    "len(df)"
   ]
  },
  {
   "cell_type": "code",
   "execution_count": 18,
   "metadata": {
    "collapsed": false
   },
   "outputs": [
    {
     "data": {
      "text/plain": [
       "20239"
      ]
     },
     "execution_count": 18,
     "metadata": {},
     "output_type": "execute_result"
    }
   ],
   "source": []
  }
 ],
 "metadata": {
  "kernelspec": {
   "display_name": "Python 2",
   "language": "python",
   "name": "python2"
  },
  "language_info": {
   "codemirror_mode": {
    "name": "ipython",
    "version": 2
   },
   "file_extension": ".py",
   "mimetype": "text/x-python",
   "name": "python",
   "nbconvert_exporter": "python",
   "pygments_lexer": "ipython2",
   "version": "2.7.6"
  }
 },
 "nbformat": 4,
 "nbformat_minor": 0
}
