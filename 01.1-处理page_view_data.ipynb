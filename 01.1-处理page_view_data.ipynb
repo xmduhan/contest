{
 "cells": [
  {
   "cell_type": "code",
   "execution_count": 2,
   "metadata": {
    "collapsed": false
   },
   "outputs": [],
   "source": [
    "import re\n",
    "import pandas as pd\n",
    "from os.path import join"
   ]
  },
  {
   "cell_type": "code",
   "execution_count": 3,
   "metadata": {
    "collapsed": false
   },
   "outputs": [
    {
     "data": {
      "text/plain": [
       "['data/000000_0',\n",
       " 'data/000001_0',\n",
       " 'data/000002_0',\n",
       " 'data/000003_0',\n",
       " 'data/000004_0',\n",
       " 'data/000005_0',\n",
       " 'data/000006_0',\n",
       " 'data/000007_0']"
      ]
     },
     "execution_count": 3,
     "metadata": {},
     "output_type": "execute_result"
    }
   ],
   "source": [
    "fileList = !ls data\n",
    "fileList = filter(lambda x: re.match(r'^\\d{6}_\\d$', x), fileList)\n",
    "fileList = map(lambda x: join('data', x), fileList)\n",
    "fileList"
   ]
  },
  {
   "cell_type": "code",
   "execution_count": 4,
   "metadata": {
    "collapsed": false
   },
   "outputs": [
    {
     "name": "stdout",
     "output_type": "stream",
     "text": [
      "data/000000_0\n",
      "data/000001_0\n",
      "data/000002_0\n",
      "data/000003_0\n",
      "data/000004_0\n",
      "data/000005_0\n",
      "data/000006_0\n",
      "data/000007_0\n"
     ]
    }
   ],
   "source": [
    "for f in fileList:\n",
    "    #df = pd.read_csv(f, sep='\\t')\n",
    "    #df.to_hdf('db.hd5', 'page_view_data', append=True)\n",
    "    print f"
   ]
  },
  {
   "cell_type": "code",
   "execution_count": null,
   "metadata": {
    "collapsed": true
   },
   "outputs": [],
   "source": []
  }
 ],
 "metadata": {
  "kernelspec": {
   "display_name": "Python 2",
   "language": "python",
   "name": "python2"
  },
  "language_info": {
   "codemirror_mode": {
    "name": "ipython",
    "version": 2
   },
   "file_extension": ".py",
   "mimetype": "text/x-python",
   "name": "python",
   "nbconvert_exporter": "python",
   "pygments_lexer": "ipython2",
   "version": "2.7.6"
  }
 },
 "nbformat": 4,
 "nbformat_minor": 0
}
