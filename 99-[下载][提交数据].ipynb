{
 "cells": [
  {
   "cell_type": "code",
   "execution_count": 65,
   "metadata": {
    "collapsed": true
   },
   "outputs": [],
   "source": [
    "import requests\n",
    "from BeautifulSoup import BeautifulSoup\n",
    "import pandas as pd\n",
    "from hashlib import md5"
   ]
  },
  {
   "cell_type": "code",
   "execution_count": 72,
   "metadata": {
    "collapsed": true
   },
   "outputs": [],
   "source": [
    "tmpfile = '/tmp/tmpfile.txt'"
   ]
  },
  {
   "cell_type": "code",
   "execution_count": 91,
   "metadata": {
    "collapsed": true
   },
   "outputs": [],
   "source": [
    "def getDataList(page):\n",
    "    # 读取文件\n",
    "    f = open(page)\n",
    "    content = ''.join(f.readlines())\n",
    "    # 读取url列表\n",
    "    soup = BeautifulSoup(content)\n",
    "    table = soup.find('tbody')\n",
    "    trs = table.findAll('tr')\n",
    "    # 迭代处理\n",
    "    data = []\n",
    "    for tr in trs:\n",
    "        # 读取f1\n",
    "        td = tr.find('td')\n",
    "        f1 = float(td.getText())\n",
    "        # 读取url \n",
    "        a = tr.find('a')\n",
    "        url =  a.attrs[0][1]\n",
    "        data.append({'f1': f1, 'url': url})\n",
    "    return data"
   ]
  },
  {
   "cell_type": "code",
   "execution_count": null,
   "metadata": {
    "collapsed": true
   },
   "outputs": [],
   "source": [
    "def downloadFile(url, saveto):\n",
    "    r = requests.get(url, stream=True)\n",
    "    if r.status_code == 200:\n",
    "        with open(saveto, 'wb') as f:\n",
    "            for chunk in r:\n",
    "                f.write(chunk)"
   ]
  },
  {
   "cell_type": "code",
   "execution_count": 100,
   "metadata": {
    "collapsed": true
   },
   "outputs": [],
   "source": [
    "def extractData(page):\n",
    "    print u'正在处理:%s ... ' % page,\n",
    "    dataList = getDataList(page)\n",
    "    for data in dataList:\n",
    "        downloadFile(data['url'], tmpfile)\n",
    "        filename = 'commits/%s.txt' % md5(data['url']).hexdigest()\n",
    "        df = pd.read_csv(tmpfile, sep='\\t', names=['dev_id', 'post_id', 'p'])\n",
    "        df['f1'] =  data['f1']\n",
    "        df = df.dropna(how='any')\n",
    "        df.to_csv(filename, index=False)\n",
    "    print u'(ok)'"
   ]
  },
  {
   "cell_type": "code",
   "execution_count": 101,
   "metadata": {
    "collapsed": true
   },
   "outputs": [],
   "source": [
    "page = 'pages/1.html'"
   ]
  },
  {
   "cell_type": "code",
   "execution_count": 102,
   "metadata": {
    "collapsed": false
   },
   "outputs": [
    {
     "name": "stdout",
     "output_type": "stream",
     "text": [
      "正在处理:pages/1.html ...  (ok)\n"
     ]
    }
   ],
   "source": [
    "extractData(page)"
   ]
  },
  {
   "cell_type": "code",
   "execution_count": null,
   "metadata": {
    "collapsed": true
   },
   "outputs": [],
   "source": []
  }
 ],
 "metadata": {
  "kernelspec": {
   "display_name": "Python 2",
   "language": "python",
   "name": "python2"
  },
  "language_info": {
   "codemirror_mode": {
    "name": "ipython",
    "version": 2
   },
   "file_extension": ".py",
   "mimetype": "text/x-python",
   "name": "python",
   "nbconvert_exporter": "python",
   "pygments_lexer": "ipython2",
   "version": "2.7.6"
  }
 },
 "nbformat": 4,
 "nbformat_minor": 0
}
